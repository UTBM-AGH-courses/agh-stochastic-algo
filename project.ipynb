{
 "cells": [
  {
   "cell_type": "markdown",
   "metadata": {},
   "source": [
    "# Airplane allocation - A stochastic problem"
   ]
  },
  {
   "source": [
    "## Problem definition\n",
    "An airline wishes to allocate airplanes of various types among its route to satisfy an uncertain passenger demand, in such a way as to minimize operating costs plus the lost revenue from passengers turned away.\n",
    "This problem use *4* different types of aircraft and *5* routes.\n",
    "\n",
    "// UNE DESCRIPTION PLUS PRECISE\n",
    "// AJOUTER UN PRACTICAL MEANING POUR INTRODUIRE\n",
    "// REFER TO THE PREVIOUS RESULTS. METTRE LE DOC PDF DU PROBLEME AVEC LES TRAVEAUX EFFECTUE\n",
    "// LECTURE NOTES IN COMPUTER SCIENCE, by Springer (BOOK) ==> SEE HOW THE LOOKS THE SET OF REFERENCES & GET THE MACRO FOR LATEX"
   ],
   "cell_type": "markdown",
   "metadata": {}
  },
  {
   "source": [
    "## The modeling\n",
    "In order to modelize the problem, we use a matrix $A$ containing the number of aircraft use for a given route and a given type :\n",
    "\n",
    "$A = (x_{i,j})_{1\\leq i\\leq 5, 1\\leq j\\leq 4} = \\left( \\begin{array}{cccc}\n",
    "x_{1,1} & \\ldots & \\ldots & x_{1,4} \\\\\n",
    "x_{2,1} & \\ldots & \\ldots & x_{2,4} \\\\\n",
    "x_{3,1} & \\ldots & \\ldots & x_{3,4} \\\\\n",
    "x_{4,1} & \\ldots & \\ldots & x_{4,4} \\\\ \n",
    "x_{5,1} & \\ldots & \\ldots & x_{5,4} \\\\ \\end{array} \\right) \\in M_{5,4}(\\mathbb{N})$ where $x \\in \\mathbb{N}$\n",
    "\n",
    "Where $x_{i,j}$ represents the number of airplane for the type $j$ on the route $i$.\n",
    "\n",
    "Example $x_{3,4} = 23$ means that we have 23 aircrafts of type 4 on the route number 3"
   ],
   "cell_type": "markdown",
   "metadata": {}
  },
  {
   "source": [
    "## The cost function\n",
    "\n",
    "In order to find the best solution, we need to minimize the following cost function :\n",
    "\n",
    "$f = \\sum_{i=1}^{5} \\sum_{j=1}^{4}( Cost_{i,j} * x_{i,j})+ \\sum_{k=1}^{5} RevenueLost_{k} * PassengersTA_{k}$\n",
    "\n",
    "Where :\n",
    "\n",
    "* $Cost_{i,j}$ characterize the operational cost of an aircraft by the route.\n",
    "For our implementation, we chose to use this matrix $C \\in $ of operational costs :\n",
    "\n",
    "$C = \\left( \\begin{array}{cccc}\n",
    "12 & 20 & 20 & 19 \\\\\n",
    "2 & 34 & 10 & 20 \\\\\n",
    "43 & 63 & 40 & 12 \\\\\n",
    "32 & 10 & 6 & 34 \\\\ \n",
    "20 & 30 & 10 & 87 \\\\ \\end{array} \\right)\\in M_{5,4}(\\mathbb{N})$\n",
    "\n",
    "Example : $Cost_{1,4} = 19$ and $Cost_{5,2} = 30$\n",
    "\n",
    "* $RevenueLost_{k}$ with $k \\in [1,5]$ denote the revenue lost per passenger turned away on the $kth$ route.\n",
    "For our implementation, we chose to use this matrix $R$ :\n",
    "\n",
    "$R = \\left( \\begin{array}{cccc}\n",
    "13 & 20 & 7 & 7 & 15\\\\ \\end{array} \\right)\\in M_{1,5}(\\mathbb{N})$\n",
    "\n",
    "* $PassengersTA_{k} \\in \\mathbb{N} = D_{1,k} - \\sum_{j=1}^{4}(A_{k,j}*B_{k,j})$ with $k \\in [1,5]$ denote the number of passenger who turned away from the $kth$ route. This is obtained by substracting the route demand by the real number of passenger knew by multiplying the number of aircraft per route by their capacity. The demand is denote by this matrix $D$:\n",
    "\n",
    "$D = \\left( \\begin{array}{cccc}\n",
    "800 & 900 & 700 & 650 & 380\\\\ \\end{array} \\right)\\in M_{1,5}(\\mathbb{N})$\n",
    "\n",
    "And the total capacity of each type of aircraft is denoted by the following matrix $B$ : \n",
    "\n",
    "$B = \\left( \\begin{array}{cccc}\n",
    "16 & 10 & 30 & 23 \\\\ \\end{array} \\right)\\in M_{1,4}(\\mathbb{N})$\n",
    "\n",
    "\n",
    "\n",
    "**Our goal here will to lower this function in order to fit the demand with the lowest possible cost**\n",
    "\n",
    "To achieve this goal, we choose two approach. The first one is the resoltion by a population based algorithm, the genetic one."
   ],
   "cell_type": "markdown",
   "metadata": {}
  },
  {
   "source": [
    "## The proposed solution - Population based algorithm\n",
    "The main idea behind this type of algorithm is to generate multiple generation and for each one pick the two best members, cross them, mutate the resulted child and generate a new popuation :\n",
    "\n",
    "### The algorithm\n",
    "\n",
    "1. Generate a base population $P = \\{p_0,...,p_n\\}$ of size $n$. The first iteration will generate a random one with one constraint, we have a limited number $T_{1,k}$ of each type $k$ of aircraft : $T = \\left( \\begin{array}{cccc}\n",
    "10 & 19 & 25 & 16\\\\ \\end{array} \\right)\\in M_{1,5}(\\mathbb{N})$\n",
    "2. Compute the total cost of the generation with the our formula previously define.\n",
    "4. Compute the probality for each individuals to picked them regarding their cost : $P \\in [0,1] = \\begin{eqnarray}\\frac{1/Cost}{1/\\sum_{}Cost} \\end{eqnarray}$\n",
    "3. Pick the to best members $\\{p_1,p_2\\}$ of the population according to their probability. They will be our two *parents*.\n",
    "4. Cross both parents according to a linear probality $v \\in [0,1]$  and a threshold $C_T \\in [0,1]$. For each column of the parents, if $v \\leq C_T$ we swap the colum. At the end we have a new child. This is done two times to get two children\n",
    "5. Mutate both children according to a linear probality $v \\in [0,1]$ and a threshold $M_T \\in [0,1]$. For each column of the children, if $v \\leq M_T$ we swipe two random value in the same row\n",
    "6. One of the two child is picked and added to the new generation.\n",
    "7. We repeat *4, 5 and 6* until the size of the new generation is equal to $n$ the previous one.\n",
    "\n",
    "// 3 THINGS : \n",
    "  THE SIZE OF THE POPULATION (SINGLE OR MULTI)\n",
    "  THE TYPE OF SELECTION AND MIXING OPERATION (CROSSOVER, MUTATION)\n",
    "  THE SCHEME OF SUCCESSION (mu + lambda ; mu,mu ; mu,lambda)\n",
    "  THE STOPPING CONDITION\n",
    "\n",
    "// DESCRIBE THE SET OU ON CHERCHE\n",
    "// REFER TO THE FIRST SECTION\n",
    "// REFER TO THE COST FUNCTION SECTION\n",
    "\n",
    "// EN DESSOUS\n",
    "// ENUMERATE THE GOAL OF THESE TESTS. USE MUTATION SO REACH ANY SOLUTION FROM THE ADMISSIBLE SET WITH PROBA != 0 = CONVERGENCE\n",
    "// SHOW NO LOCAL MINIMIZER\n",
    "// THE GOAL OF BENCHMARK TEST (MIN COMPUTE COST OR OTHERS)\n",
    "// DESCRIBE THE PLAN OF TESTS (GENEARATION, POP SIZE, CHANGING OPERATION) ==> INCLUDE SOME REMARKS\n",
    "// PRESENT IN THE BEST ORDER THE RESULTS OF TEST\n",
    "\n"
   ],
   "cell_type": "markdown",
   "metadata": {}
  },
  {
   "source": [
    "## First implementation - Probabilistic pickup\n",
    "\n",
    "<img src=\"images/1_airplanes_g400_i30_cT0.3_mT0.15.png\">\n",
    "\n",
    "This graph shows you for every generation, the best cost we can get. In the run, we run *400* generations of *30* individuals.\n",
    "Unfortunately, the result is not converging toward a possible solution but it is chaotic. This is because of the way we pick our parents. We try in a first place to  If we base this on the probabilities, the results are not good. But if pick the two best of the population, the results are much better.\n",
    "\n",
    "In this first run, $C_{T} = 0.3$ and $M_{T}=0.15$"
   ],
   "cell_type": "markdown",
   "metadata": {}
  },
  {
   "source": [
    "## Second implementation - An agressive pick up\n",
    "\n",
    "<img src=\"images/2_airplanes_g400_i30_cT0.3_mT0.15.png\">\n",
    "\n",
    "For this second implementation, we decided to change the way of picking the parents responsible to generate the future generation. Instead of picking them according to there probability, we directly pick the two best element of the population.\n",
    "So we change the fith step of the algorithm by this : \n",
    "5. Pick the to best members $\\{p_1,p_2\\}$ of the population according to their cost. The parents with the lowest cost among all the population. They will be our two *parents*: $p_1 = \\underset{x \\in P}{min} f(x) \\quad \\textrm{and} \\quad p_2 = \\underset{x \\in P-{p_1}}{min} f(x)$.\n",
    "\n",
    "As you can see we have a covergence toward one of the possible solution and no more chaos.\n",
    "\n",
    "In this second run,  $C_{T} = 0.3$ and $M_{T}=0.15$\n"
   ],
   "cell_type": "markdown",
   "metadata": {}
  },
  {
   "source": [
    "# CONCLUSION\n",
    "\n",
    "// GENERAL CONCLUSION (SUCCESSFULL OR NOT AND WHY)\n",
    "// MORE DETAIL (SELECT MORE MUTATION OR MORE CROSSING ...)\n",
    "// OPENING, SHOW FUTURE RESEARCH"
   ],
   "cell_type": "markdown",
   "metadata": {}
  },
  {
   "cell_type": "code",
   "execution_count": null,
   "metadata": {},
   "outputs": [],
   "source": []
  }
 ],
 "metadata": {
  "kernelspec": {
   "display_name": "PyCharm (Stochastic)",
   "language": "python",
   "name": "pycharm-70815510"
  },
  "language_info": {
   "codemirror_mode": {
    "name": "ipython",
    "version": 3
   },
   "file_extension": ".py",
   "mimetype": "text/x-python",
   "name": "python",
   "nbconvert_exporter": "python",
   "pygments_lexer": "ipython3",
   "version": "3.8.5-final"
  }
 },
 "nbformat": 4,
 "nbformat_minor": 4
}