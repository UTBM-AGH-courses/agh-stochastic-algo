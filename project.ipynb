{
 "cells": [
  {
   "cell_type": "markdown",
   "metadata": {},
   "source": [
    "# Airplane allocation problem - A stochastic problem"
   ]
  },
  {
   "source": [
    "### Problem definition\n",
    "An airline wishes to allocate airplanes of various types among its route to satisfy an uncertain passenger demand, in such a way as to minimize operating costs plus the lost revenue from passengers turned away.\n",
    "This problem use *4* different types of aircraft and *5* routes"
   ],
   "cell_type": "markdown",
   "metadata": {}
  },
  {
   "source": [
    "### Modelisation\n",
    "In order to modelize the problem, we use a matrix $M$ containing the number of aircraft use for a given route and a given type :\n",
    "\n",
    "$M = (x_{i,j})_{1\\leq i\\leq 5, 1\\leq j\\leq 4} = \\left( \\begin{array}{cccc}\n",
    "x_{1,1} & \\ldots & \\ldots & x_{1,4} \\\\\n",
    "x_{2,1} & \\ldots & \\ldots & x_{2,4} \\\\\n",
    "x_{3,1} & \\ldots & \\ldots & x_{3,4} \\\\\n",
    "x_{4,1} & \\ldots & \\ldots & x_{4,4} \\\\ \n",
    "x_{5,1} & \\ldots & \\ldots & x_{5,4} \\\\ \\end{array} \\right)$ where $x \\in \\mathbb{N}$\n",
    "\n",
    "Where $x_{i,j}$ represents the number of airplane for the type $j$ on the route $i$.\n",
    "\n",
    "Example $x_{3,4} = 23$ means that we have 23 aircrafts of type 4 on the route number 3"
   ],
   "cell_type": "markdown",
   "metadata": {}
  },
  {
   "source": [
    "### Cost function\n",
    "\n",
    "In order to find the best solution, we need to minimize the following cost function :\n",
    "\n",
    "$f = \\sum_{j=1}^{20} Cost_{j} * x_{j} + \\sum_{k=1}^{5} RevenueLost_{k} * PassengersTA_{k}$"
   ],
   "cell_type": "markdown",
   "metadata": {}
  },
  {
   "cell_type": "code",
   "execution_count": null,
   "metadata": {},
   "outputs": [],
   "source": [
    "### Resolution - Population algorithm\n",
    "In order to find the best solution, we chosen the Genetic algorithm.\n"
   ]
  },
  {
   "cell_type": "markdown",
   "metadata": {},
   "source": [
    "## The implementationn (Python)\n",
    "### Initial imports"
   ]
  },
  {
   "cell_type": "code",
   "execution_count": 13,
   "metadata": {},
   "outputs": [],
   "source": [
    "import numpy as np\n",
    "import matplotlib.pyplot as plt\n",
    "import random\n",
    "import copy"
   ]
  },
  {
   "cell_type": "markdown",
   "metadata": {
    "pycharm": {
     "name": "#%% md\n"
    }
   },
   "source": [
    "### The manipulated object\n",
    "In a first place, we need to create an object with the following structure to store all the information"
   ]
  },
  {
   "cell_type": "code",
   "execution_count": 14,
   "metadata": {
    "pycharm": {
     "name": "#%%\n"
    }
   },
   "outputs": [],
   "source": [
    "class PopulationMember:\n",
    "    def __init__(self, airplane):\n",
    "        # The airplane distribution of the individual\n",
    "        self.airplane = airplane\n",
    "        # Cost of the so called distribution\n",
    "        self.cost = 0\n",
    "        # 1/cost\n",
    "        self.invert_cost = 0\n",
    "        # Probability of being keep for the n+1 generation\n",
    "        self.probability = 0"
   ]
  },
  {
   "cell_type": "markdown",
   "metadata": {},
   "source": [
    "### Initials values"
   ]
  },
  {
   "cell_type": "code",
   "execution_count": 15,
   "metadata": {
    "pycharm": {
     "name": "#%%\n"
    }
   },
   "outputs": [],
   "source": [
    "# All 5 routes numbered\n",
    "routes = np.array([0, 1, 2, 3, 4])\n",
    "# Revenue lost per routes if a passenger turned away\n",
    "revenue_lost_per_passenger_turned_away = np.array([13, 20, 7, 7, 15])\n",
    "# Demand in passenger for each route\n",
    "passenger_demand_per_route = np.array([800, 900, 700, 650, 380])\n",
    "# Number of aircraft available for each five types\n",
    "number_of_aircraft_available_per_type = [10, 19, 25, 16]\n",
    "# The aircraft capacity (row=type, column=route)\n",
    "aircraft_capacity_per_spot = np.matrix([[16, 10, 30, 23],\n",
    "                                        [16, 10, 30, 23],\n",
    "                                        [16, 10, 30, 23],\n",
    "                                        [16, 10, 30, 23],\n",
    "                                        [16, 10, 30, 23]])\n",
    "# Operational costs\n",
    "operational_cost_per_spot = np.matrix([[12, 20, 30, 19],\n",
    "                                       [2, 34, 10, 20],\n",
    "                                       [43, 63, 40, 12],\n",
    "                                       [32, 10, 6, 34],\n",
    "                                       [20, 30, 10, 87]])\n",
    "# Aircraft per spot (solution)\n",
    "number_of_aircraft_per_spot = np.matrix([[0, 0, 0, 0],\n",
    "                                         [0, 0, 0, 0],\n",
    "                                         [0, 0, 0, 0],\n",
    "                                         [0, 0, 0, 0],\n",
    "                                         [0, 0, 0, 0]])"
   ]
  },
  {
   "source": [
    "### Crossing function"
   ],
   "cell_type": "markdown",
   "metadata": {}
  },
  {
   "source": [
    "def cross(parent1, parent2, cross_threshold):\n",
    "    children = [PopulationMember(copy.deepcopy(parent1.airplane)), PopulationMember(copy.deepcopy(parent2.airplane))]\n",
    "    row_nb, column_nb = number_of_aircraft_per_spot.shape\n",
    "    for index in range(0, column_nb):\n",
    "        np.random.seed(10)\n",
    "        rand = random.uniform(0, 1)\n",
    "        if rand <= cross_threshold:\n",
    "            children[0].airplane[:, index] = copy.deepcopy(parent2.airplane[:, index])\n",
    "            children[1].airplane[:, index] = copy.deepcopy(parent1.airplane[:, index])\n",
    "    return children[0], children[1]"
   ],
   "cell_type": "code",
   "metadata": {},
   "execution_count": 16,
   "outputs": []
  },
  {
   "source": [
    "### Mutation funtion"
   ],
   "cell_type": "markdown",
   "metadata": {}
  },
  {
   "source": [
    "def mutation(child, mutation_threshold):\n",
    "    row_nb, column_nb = number_of_aircraft_per_spot.shape\n",
    "    child_copy = copy.deepcopy(child)\n",
    "    for index in range(0, column_nb):\n",
    "        np.random.seed(10)\n",
    "        rand = random.uniform(0, 1)\n",
    "        if rand <= mutation_threshold:\n",
    "            index1 = random.randint(0, row_nb - 1)\n",
    "            index2 = random.randint(0, row_nb - 1)\n",
    "            while index1 == index2:\n",
    "                index2 = random.randint(0, row_nb - 1)\n",
    "            tmp = child_copy.airplane[index1, index]\n",
    "            child_copy.airplane[index1, index] = child_copy.airplane[index2, index]\n",
    "            child_copy.airplane[index2, index] = tmp\n",
    "    return child_copy"
   ],
   "cell_type": "code",
   "metadata": {},
   "execution_count": 17,
   "outputs": []
  },
  {
   "cell_type": "code",
   "execution_count": null,
   "metadata": {},
   "outputs": [],
   "source": []
  }
 ],
 "metadata": {
  "kernelspec": {
   "display_name": "PyCharm (Stochastic)",
   "language": "python",
   "name": "pycharm-70815510"
  },
  "language_info": {
   "codemirror_mode": {
    "name": "ipython",
    "version": 3
   },
   "file_extension": ".py",
   "mimetype": "text/x-python",
   "name": "python",
   "nbconvert_exporter": "python",
   "pygments_lexer": "ipython3",
   "version": "3.8.5-final"
  }
 },
 "nbformat": 4,
 "nbformat_minor": 4
}