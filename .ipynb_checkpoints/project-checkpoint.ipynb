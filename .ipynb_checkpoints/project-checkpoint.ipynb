{
 "cells": [
  {
   "cell_type": "markdown",
   "metadata": {},
   "source": [
    "# Airplane distribution - A stochastic problem"
   ]
  },
  {
   "cell_type": "markdown",
   "metadata": {},
   "source": [
    "### Initial imports"
   ]
  },
  {
   "cell_type": "code",
   "execution_count": 1,
   "metadata": {},
   "outputs": [],
   "source": [
    "import numpy as np\n",
    "import matplotlib.pyplot as plt\n",
    "import random\n",
    "import copy"
   ]
  },
  {
   "cell_type": "markdown",
   "metadata": {
    "pycharm": {
     "name": "#%% md\n"
    }
   },
   "source": [
    "### The manipulated object\n",
    "In a first place, we need to create an object with the following structure to store all the information"
   ]
  },
  {
   "cell_type": "code",
   "execution_count": 2,
   "metadata": {
    "pycharm": {
     "name": "#%%\n"
    }
   },
   "outputs": [],
   "source": [
    "class PopulationMember:\n",
    "    def __init__(self, airplane):\n",
    "        # The airplane distribution of the individual\n",
    "        self.airplane = airplane\n",
    "        # Cost of the so called distribution\n",
    "        self.cost = 0\n",
    "        # 1/cost\n",
    "        self.invert_cost = 0\n",
    "        # Probability of being keep for the n+1 generation\n",
    "        self.probability = 0"
   ]
  },
  {
   "cell_type": "markdown",
   "metadata": {},
   "source": [
    "### Initials values"
   ]
  },
  {
   "cell_type": "markdown",
   "metadata": {},
   "source": [
    "routes = np.array([0, 1, 2, 3, 4])\n",
    "revenue_lost_per_passenger_turned_away = np.array([13, 20, 7, 7, 15])\n",
    "\n",
    "passenger_demand_per_route = np.array([800, 900, 700, 650, 380])\n",
    "\n",
    "number_of_aircraft_available_per_type = [10, 19, 25, 16]\n",
    "\n",
    "aircraft_capacity_per_spot = np.matrix([[16, 10, 30, 23],\n",
    "                                        [16, 10, 30, 23],\n",
    "                                        [16, 10, 30, 23],\n",
    "                                        [16, 10, 30, 23],\n",
    "                                        [16, 10, 30, 23]])\n",
    "\n",
    "operational_cost_per_spot = np.matrix([[12, 20, 30, 19],\n",
    "                                       [2, 34, 10, 20],\n",
    "                                       [43, 63, 40, 12],\n",
    "                                       [32, 10, 6, 34],\n",
    "                                       [20, 30, 10, 87]])\n",
    "\n",
    "number_of_aircraft_per_spot = np.matrix([[0, 0, 0, 0],\n",
    "                                         [0, 0, 0, 0],\n",
    "                                         [0, 0, 0, 0],\n",
    "                                         [0, 0, 0, 0],\n",
    "                                         [0, 0, 0, 0]])"
   ]
  },
  {
   "cell_type": "code",
   "execution_count": null,
   "metadata": {
    "pycharm": {
     "name": "#%%\n"
    }
   },
   "outputs": [],
   "source": [
    "routes = np.array([0, 1, 2, 3, 4])\n",
    "revenue_lost_per_passenger_turned_away = np.array([13, 20, 7, 7, 15])\n",
    "\n",
    "passenger_demand_per_route = np.array([800, 900, 700, 650, 380])\n",
    "\n",
    "number_of_aircraft_available_per_type = [10, 19, 25, 16]\n",
    "\n",
    "aircraft_capacity_per_spot = np.matrix([[16, 10, 30, 23],\n",
    "                                        [16, 10, 30, 23],\n",
    "                                        [16, 10, 30, 23],\n",
    "                                        [16, 10, 30, 23],\n",
    "                                        [16, 10, 30, 23]])\n",
    "\n",
    "operational_cost_per_spot = np.matrix([[12, 20, 30, 19],\n",
    "                                       [2, 34, 10, 20],\n",
    "                                       [43, 63, 40, 12],\n",
    "                                       [32, 10, 6, 34],\n",
    "                                       [20, 30, 10, 87]])\n",
    "\n",
    "number_of_aircraft_per_spot = np.matrix([[0, 0, 0, 0],\n",
    "                                         [0, 0, 0, 0],\n",
    "                                         [0, 0, 0, 0],\n",
    "                                         [0, 0, 0, 0],\n",
    "                                         [0, 0, 0, 0]])"
   ]
  }
 ],
 "metadata": {
  "kernelspec": {
   "display_name": "Python 3",
   "language": "python",
   "name": "python3"
  },
  "language_info": {
   "codemirror_mode": {
    "name": "ipython",
    "version": 3
   },
   "file_extension": ".py",
   "mimetype": "text/x-python",
   "name": "python",
   "nbconvert_exporter": "python",
   "pygments_lexer": "ipython3",
   "version": "3.8.5"
  }
 },
 "nbformat": 4,
 "nbformat_minor": 4
}
